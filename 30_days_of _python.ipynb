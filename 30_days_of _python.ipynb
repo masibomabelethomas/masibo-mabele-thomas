{
 "cells": [
  {
   "cell_type": "markdown",
   "metadata": {},
   "source": [
    "### 30 DAYS OF PYTHON PROGRAMMING"
   ]
  },
  {
   "cell_type": "markdown",
   "metadata": {},
   "source": [
    "### LISTS"
   ]
  },
  {
   "cell_type": "code",
   "execution_count": 1,
   "metadata": {},
   "outputs": [
    {
     "data": {
      "text/plain": [
       "[[123, 565, 763, 667]]"
      ]
     },
     "execution_count": 1,
     "metadata": {},
     "output_type": "execute_result"
    }
   ],
   "source": [
    "variable_one = [12,23,34,56,66,77,\"Tom\"]\n",
    "variable_one.append(12) # adddition of variable 12\n",
    "variable_one\n",
    "variable_one.pop(0) # removing a variable indexed 0\n",
    "len(variable_one)  # length of the variable\n",
    "variable_one[3] # to get item indexed 3\n",
    "\n",
    "the_list = []\n",
    "scores = [123,565,763,667]\n",
    "the_list.append(scores) # to add items in an empty list.\n",
    "the_list"
   ]
  },
  {
   "cell_type": "markdown",
   "metadata": {},
   "source": [
    "### dictionaries"
   ]
  },
  {
   "cell_type": "code",
   "execution_count": 2,
   "metadata": {},
   "outputs": [
    {
     "data": {
      "text/plain": [
       "[1, 2, 4, 5]"
      ]
     },
     "execution_count": 2,
     "metadata": {},
     "output_type": "execute_result"
    }
   ],
   "source": [
    "new_dictionary= {'tom':'good','Lau':'best','scores':[1,2,4,5]}\n",
    "new_dictionary\n",
    "new_dictionary['tom']\n",
    "new_dictionary['Rona']='very good' # adding an item in a dictionary\n",
    "new_dictionary['scores'] # extracting a list from a dictionary."
   ]
  },
  {
   "cell_type": "markdown",
   "metadata": {},
   "source": [
    "### tuples"
   ]
  },
  {
   "cell_type": "code",
   "execution_count": 3,
   "metadata": {},
   "outputs": [
    {
     "data": {
      "text/plain": [
       "('Thomas', 'Masibo', ('Kimtai', 'kimtai'), ('Mshindi', 'Mshindi'), (2, 2))"
      ]
     },
     "execution_count": 3,
     "metadata": {},
     "output_type": "execute_result"
    }
   ],
   "source": [
    "tup = ()\n",
    "tup = ('Thomas','Masibo')\n",
    "tup[0] # we use index to etract items in a tup.\n",
    "tup +=( ('Kimtai','kimtai'),('Mshindi','Mshindi'),(2,2)) # addition of items in a tuple.\n",
    "tup"
   ]
  },
  {
   "cell_type": "markdown",
   "metadata": {},
   "source": [
    "### loops"
   ]
  },
  {
   "cell_type": "code",
   "execution_count": 4,
   "metadata": {},
   "outputs": [
    {
     "name": "stdout",
     "output_type": "stream",
     "text": [
      "199\n",
      "2626\n",
      "5757\n",
      "68686\n",
      "34\n",
      "56\n",
      "677\n",
      "1\n",
      "2\n",
      "3\n",
      "4\n",
      "5\n",
      "6\n",
      "7\n",
      "the only number\n"
     ]
    }
   ],
   "source": [
    "# for loop.\n",
    "#using list\n",
    "bag = [199,2626,5757,68686,34,56,677]\n",
    "len(bag)\n",
    "\n",
    "for item in bag:\n",
    "        print(item)\n",
    "i = 0\n",
    "for item in bag: # to count the items \n",
    "    i = i+1\n",
    "    print(i)\n",
    "for item in bag:\n",
    "    if item == 199:\n",
    "        print('the only number')\n",
    "\n",
    "    "
   ]
  },
  {
   "cell_type": "markdown",
   "metadata": {},
   "source": [
    "### while loops\n"
   ]
  },
  {
   "cell_type": "code",
   "execution_count": 5,
   "metadata": {},
   "outputs": [
    {
     "name": "stdout",
     "output_type": "stream",
     "text": [
      "bob\n",
      "bob\n",
      "bob\n",
      "bob\n"
     ]
    }
   ],
   "source": [
    "i = 10\n",
    "while i < 10:\n",
    "    print('greater than ten')\n",
    "    i = i + 1 ###\n",
    "    \n",
    "i = 12\n",
    "while i < 20:\n",
    "    print('bob')\n",
    "    i = i + 2\n",
    "    "
   ]
  },
  {
   "cell_type": "code",
   "execution_count": 11,
   "metadata": {},
   "outputs": [
    {
     "name": "stdout",
     "output_type": "stream",
     "text": [
      "1\n",
      "2\n",
      "3\n",
      "4\n",
      "5\n",
      "12.34\n",
      "45\n",
      "thomas\n",
      "Lilian\n",
      "Kevin\n",
      "[[12.34, 45, 'thomas', 'Lilian', 'Kevin'], [12.34, 45, 'thomas', 'Lilian', 'Kevin'], [12.34, 45, 'thomas', 'Lilian', 'Kevin'], [12.34, 45, 'thomas', 'Lilian', 'Kevin'], [12.34, 45, 'thomas', 'Lilian', 'Kevin']]\n"
     ]
    }
   ],
   "source": [
    "#### conditionalstatements\n",
    "\n",
    "list_a = [1,2,3,4,5]\n",
    "for i in list_a:\n",
    "    print(i)\n",
    "list_b = [12.34,45,'thomas', 'Lilian','Kevin']\n",
    "for i in list_b:\n",
    "    print(i)\n",
    "\n",
    "        "
   ]
  },
  {
   "cell_type": "code",
   "execution_count": 19,
   "metadata": {},
   "outputs": [
    {
     "name": "stdout",
     "output_type": "stream",
     "text": [
      "[12.34]\n"
     ]
    }
   ],
   "source": [
    "list_c = [] \n",
    "for i in list_b:\n",
    "    if isinstance(i,float):\n",
    "        list_c.append(i)\n",
    "print(list_c)"
   ]
  },
  {
   "cell_type": "code",
   "execution_count": null,
   "metadata": {},
   "outputs": [],
   "source": []
  },
  {
   "cell_type": "code",
   "execution_count": null,
   "metadata": {},
   "outputs": [],
   "source": []
  }
 ],
 "metadata": {
  "kernelspec": {
   "display_name": "Python 3",
   "language": "python",
   "name": "python3"
  },
  "language_info": {
   "codemirror_mode": {
    "name": "ipython",
    "version": 3
   },
   "file_extension": ".py",
   "mimetype": "text/x-python",
   "name": "python",
   "nbconvert_exporter": "python",
   "pygments_lexer": "ipython3",
   "version": "3.7.6"
  }
 },
 "nbformat": 4,
 "nbformat_minor": 4
}
